{
 "metadata": {
  "name": "",
  "signature": "sha256:a35b5acd343e21705da2501abe89630a9523153e3705e4f534ec48cf20f90afc"
 },
 "nbformat": 3,
 "nbformat_minor": 0,
 "worksheets": [
  {
   "cells": [
    {
     "cell_type": "code",
     "collapsed": false,
     "input": [
      "import numpy as np\n",
      "import pandas as pd\n",
      "import matplotlib as pl\n",
      "import sklearn as sk"
     ],
     "language": "python",
     "metadata": {},
     "outputs": []
    },
    {
     "cell_type": "code",
     "collapsed": false,
     "input": [
      "data = pd.read_csv('testDeletedZeros.csv')"
     ],
     "language": "python",
     "metadata": {},
     "outputs": [],
     "prompt_number": 160
    },
    {
     "cell_type": "code",
     "collapsed": false,
     "input": [
      "data.head()"
     ],
     "language": "python",
     "metadata": {},
     "outputs": [
      {
       "html": [
        "<div style=\"max-height:1000px;max-width:1500px;overflow:auto;\">\n",
        "<table border=\"1\" class=\"dataframe\">\n",
        "  <thead>\n",
        "    <tr style=\"text-align: right;\">\n",
        "      <th></th>\n",
        "      <th>NUM</th>\n",
        "      <th>MULT_MOI</th>\n",
        "      <th>MOI</th>\n",
        "      <th>INTENT</th>\n",
        "      <th>INJURY</th>\n",
        "      <th>SEX</th>\n",
        "      <th>ICU_LOS</th>\n",
        "      <th>ISS</th>\n",
        "      <th>LOS</th>\n",
        "      <th>FINAL_OUT</th>\n",
        "      <th>LEVEL</th>\n",
        "      <th>YEAR</th>\n",
        "      <th>MONTH</th>\n",
        "      <th>TOX1</th>\n",
        "      <th>RES1</th>\n",
        "      <th>TOX2</th>\n",
        "      <th>RES2</th>\n",
        "      <th>TOX3</th>\n",
        "      <th>RES3</th>\n",
        "      <th>TOX4</th>\n",
        "      <th>RES4</th>\n",
        "      <th>TOX5</th>\n",
        "      <th>RES5</th>\n",
        "      <th>TOX6</th>\n",
        "      <th>RES6</th>\n",
        "      <th>TOX7</th>\n",
        "      <th>RES7</th>\n",
        "      <th>TOX8</th>\n",
        "      <th>RES8</th>\n",
        "      <th>TOX9</th>\n",
        "      <th>RES9</th>\n",
        "      <th>ALC_USE</th>\n",
        "      <th>BAC</th>\n",
        "      <th>DRUG_USE</th>\n",
        "      <th>BMI</th>\n",
        "      <th>AGE</th>\n",
        "    </tr>\n",
        "  </thead>\n",
        "  <tbody>\n",
        "    <tr>\n",
        "      <th>0</th>\n",
        "      <td> 100032370</td>\n",
        "      <td>  </td>\n",
        "      <td> TRANSPORT - OTHER</td>\n",
        "      <td> UNINTENTIONAL</td>\n",
        "      <td> TRANSPORT - OTHER</td>\n",
        "      <td> M</td>\n",
        "      <td> 3</td>\n",
        "      <td>  5</td>\n",
        "      <td> 131.96</td>\n",
        "      <td> L</td>\n",
        "      <td> 1</td>\n",
        "      <td> 2009</td>\n",
        "      <td>  4</td>\n",
        "      <td> BENZODIAZEPINE</td>\n",
        "      <td>     FOUND</td>\n",
        "      <td>             </td>\n",
        "      <td>          </td>\n",
        "      <td>               </td>\n",
        "      <td>          </td>\n",
        "      <td>        </td>\n",
        "      <td>          </td>\n",
        "      <td>              </td>\n",
        "      <td>          </td>\n",
        "      <td>       </td>\n",
        "      <td>          </td>\n",
        "      <td>              </td>\n",
        "      <td>          </td>\n",
        "      <td>              </td>\n",
        "      <td>          </td>\n",
        "      <td>  </td>\n",
        "      <td>  </td>\n",
        "      <td> CONFIRMED_NONE</td>\n",
        "      <td> 0</td>\n",
        "      <td> YES_LEGAL_USE</td>\n",
        "      <td> 24</td>\n",
        "      <td> 15</td>\n",
        "    </tr>\n",
        "    <tr>\n",
        "      <th>1</th>\n",
        "      <td> 100032798</td>\n",
        "      <td>  </td>\n",
        "      <td> TRANSPORT - OTHER</td>\n",
        "      <td> UNINTENTIONAL</td>\n",
        "      <td> TRANSPORT - OTHER</td>\n",
        "      <td> F</td>\n",
        "      <td> 2</td>\n",
        "      <td> 26</td>\n",
        "      <td> 116.99</td>\n",
        "      <td> L</td>\n",
        "      <td> 1</td>\n",
        "      <td> 2009</td>\n",
        "      <td>  5</td>\n",
        "      <td>    AMPHETAMINE</td>\n",
        "      <td> NOT FOUND</td>\n",
        "      <td> BARBITURATES</td>\n",
        "      <td> NOT FOUND</td>\n",
        "      <td> BENZODIAZEPINE</td>\n",
        "      <td> NOT FOUND</td>\n",
        "      <td> COCAINE</td>\n",
        "      <td> NOT FOUND</td>\n",
        "      <td> PHENCYCLIDINE</td>\n",
        "      <td> NOT FOUND</td>\n",
        "      <td> OPIATE</td>\n",
        "      <td> NOT FOUND</td>\n",
        "      <td>        OPIATE</td>\n",
        "      <td> NOT FOUND</td>\n",
        "      <td> THC MARIJUANA</td>\n",
        "      <td> NOT FOUND</td>\n",
        "      <td>  </td>\n",
        "      <td>  </td>\n",
        "      <td> CONFIRMED_NONE</td>\n",
        "      <td> 0</td>\n",
        "      <td>  CONFIRMED_NO</td>\n",
        "      <td> 20</td>\n",
        "      <td> 15</td>\n",
        "    </tr>\n",
        "    <tr>\n",
        "      <th>2</th>\n",
        "      <td> 100035295</td>\n",
        "      <td>  </td>\n",
        "      <td> TRANSPORT - OTHER</td>\n",
        "      <td> UNINTENTIONAL</td>\n",
        "      <td> TRANSPORT - OTHER</td>\n",
        "      <td> M</td>\n",
        "      <td>  </td>\n",
        "      <td>  1</td>\n",
        "      <td>  87.40</td>\n",
        "      <td> L</td>\n",
        "      <td> 1</td>\n",
        "      <td> 2009</td>\n",
        "      <td> 11</td>\n",
        "      <td>    AMPHETAMINE</td>\n",
        "      <td> NOT FOUND</td>\n",
        "      <td>  BARBITURATE</td>\n",
        "      <td> NOT FOUND</td>\n",
        "      <td> BENZODIAZEPINE</td>\n",
        "      <td> NOT FOUND</td>\n",
        "      <td> COCAINE</td>\n",
        "      <td> NOT FOUND</td>\n",
        "      <td> PHENCYCLIDINE</td>\n",
        "      <td> NOT FOUND</td>\n",
        "      <td> OPIATE</td>\n",
        "      <td> NOT FOUND</td>\n",
        "      <td> THC MARIJUANA</td>\n",
        "      <td> NOT FOUND</td>\n",
        "      <td>              </td>\n",
        "      <td>          </td>\n",
        "      <td>  </td>\n",
        "      <td>  </td>\n",
        "      <td> CONFIRMED_NONE</td>\n",
        "      <td> 0</td>\n",
        "      <td>  CONFIRMED_NO</td>\n",
        "      <td> 24</td>\n",
        "      <td> 15</td>\n",
        "    </tr>\n",
        "    <tr>\n",
        "      <th>3</th>\n",
        "      <td> 100035529</td>\n",
        "      <td>  </td>\n",
        "      <td> TRANSPORT - OTHER</td>\n",
        "      <td> UNINTENTIONAL</td>\n",
        "      <td> TRANSPORT - OTHER</td>\n",
        "      <td> M</td>\n",
        "      <td> 2</td>\n",
        "      <td> 17</td>\n",
        "      <td>  77.96</td>\n",
        "      <td> L</td>\n",
        "      <td> 1</td>\n",
        "      <td> 2009</td>\n",
        "      <td> 12</td>\n",
        "      <td>    AMPHETAMINE</td>\n",
        "      <td> NOT FOUND</td>\n",
        "      <td>  BARBITURATE</td>\n",
        "      <td> NOT FOUND</td>\n",
        "      <td> BENZODIAZEPINE</td>\n",
        "      <td> NOT FOUND</td>\n",
        "      <td> COCAINE</td>\n",
        "      <td> NOT FOUND</td>\n",
        "      <td> PHENCYCLIDINE</td>\n",
        "      <td> NOT FOUND</td>\n",
        "      <td> OPIATE</td>\n",
        "      <td> NOT FOUND</td>\n",
        "      <td> THC MARIJUANA</td>\n",
        "      <td> NOT FOUND</td>\n",
        "      <td>              </td>\n",
        "      <td>          </td>\n",
        "      <td>  </td>\n",
        "      <td>  </td>\n",
        "      <td> CONFIRMED_NONE</td>\n",
        "      <td> 0</td>\n",
        "      <td>  CONFIRMED_NO</td>\n",
        "      <td> 20</td>\n",
        "      <td> 15</td>\n",
        "    </tr>\n",
        "    <tr>\n",
        "      <th>4</th>\n",
        "      <td> 100035568</td>\n",
        "      <td>  </td>\n",
        "      <td> TRANSPORT - OTHER</td>\n",
        "      <td> UNINTENTIONAL</td>\n",
        "      <td> TRANSPORT - OTHER</td>\n",
        "      <td> M</td>\n",
        "      <td> 2</td>\n",
        "      <td> 10</td>\n",
        "      <td>  72.57</td>\n",
        "      <td> L</td>\n",
        "      <td> 1</td>\n",
        "      <td> 2009</td>\n",
        "      <td> 12</td>\n",
        "      <td> BENZODIAZEPINE</td>\n",
        "      <td>     FOUND</td>\n",
        "      <td>             </td>\n",
        "      <td>          </td>\n",
        "      <td>               </td>\n",
        "      <td>          </td>\n",
        "      <td>        </td>\n",
        "      <td>          </td>\n",
        "      <td>              </td>\n",
        "      <td>          </td>\n",
        "      <td>       </td>\n",
        "      <td>          </td>\n",
        "      <td>              </td>\n",
        "      <td>          </td>\n",
        "      <td>              </td>\n",
        "      <td>          </td>\n",
        "      <td>  </td>\n",
        "      <td>  </td>\n",
        "      <td> CONFIRMED_NONE</td>\n",
        "      <td> 0</td>\n",
        "      <td> YES_LEGAL_USE</td>\n",
        "      <td> 27</td>\n",
        "      <td> 15</td>\n",
        "    </tr>\n",
        "  </tbody>\n",
        "</table>\n",
        "</div>"
       ],
       "metadata": {},
       "output_type": "pyout",
       "prompt_number": 138,
       "text": [
        "         NUM MULT_MOI                MOI         INTENT             INJURY  \\\n",
        "0  100032370           TRANSPORT - OTHER  UNINTENTIONAL  TRANSPORT - OTHER   \n",
        "1  100032798           TRANSPORT - OTHER  UNINTENTIONAL  TRANSPORT - OTHER   \n",
        "2  100035295           TRANSPORT - OTHER  UNINTENTIONAL  TRANSPORT - OTHER   \n",
        "3  100035529           TRANSPORT - OTHER  UNINTENTIONAL  TRANSPORT - OTHER   \n",
        "4  100035568           TRANSPORT - OTHER  UNINTENTIONAL  TRANSPORT - OTHER   \n",
        "\n",
        "  SEX ICU_LOS ISS     LOS FINAL_OUT LEVEL  YEAR  MONTH            TOX1  \\\n",
        "0   M       3   5  131.96         L     1  2009      4  BENZODIAZEPINE   \n",
        "1   F       2  26  116.99         L     1  2009      5     AMPHETAMINE   \n",
        "2   M           1   87.40         L     1  2009     11     AMPHETAMINE   \n",
        "3   M       2  17   77.96         L     1  2009     12     AMPHETAMINE   \n",
        "4   M       2  10   72.57         L     1  2009     12  BENZODIAZEPINE   \n",
        "\n",
        "        RES1          TOX2       RES2            TOX3       RES3     TOX4  \\\n",
        "0      FOUND                                                                \n",
        "1  NOT FOUND  BARBITURATES  NOT FOUND  BENZODIAZEPINE  NOT FOUND  COCAINE   \n",
        "2  NOT FOUND   BARBITURATE  NOT FOUND  BENZODIAZEPINE  NOT FOUND  COCAINE   \n",
        "3  NOT FOUND   BARBITURATE  NOT FOUND  BENZODIAZEPINE  NOT FOUND  COCAINE   \n",
        "4      FOUND                                                                \n",
        "\n",
        "        RES4           TOX5       RES5    TOX6       RES6           TOX7  \\\n",
        "0                                                                          \n",
        "1  NOT FOUND  PHENCYCLIDINE  NOT FOUND  OPIATE  NOT FOUND         OPIATE   \n",
        "2  NOT FOUND  PHENCYCLIDINE  NOT FOUND  OPIATE  NOT FOUND  THC MARIJUANA   \n",
        "3  NOT FOUND  PHENCYCLIDINE  NOT FOUND  OPIATE  NOT FOUND  THC MARIJUANA   \n",
        "4                                                                          \n",
        "\n",
        "        RES7           TOX8       RES8 TOX9 RES9         ALC_USE BAC  \\\n",
        "0                                                 CONFIRMED_NONE   0   \n",
        "1  NOT FOUND  THC MARIJUANA  NOT FOUND            CONFIRMED_NONE   0   \n",
        "2  NOT FOUND                                      CONFIRMED_NONE   0   \n",
        "3  NOT FOUND                                      CONFIRMED_NONE   0   \n",
        "4                                                 CONFIRMED_NONE   0   \n",
        "\n",
        "        DRUG_USE BMI  AGE  \n",
        "0  YES_LEGAL_USE  24   15  \n",
        "1   CONFIRMED_NO  20   15  \n",
        "2   CONFIRMED_NO  24   15  \n",
        "3   CONFIRMED_NO  20   15  \n",
        "4  YES_LEGAL_USE  27   15  "
       ]
      }
     ],
     "prompt_number": 138
    },
    {
     "cell_type": "code",
     "collapsed": false,
     "input": [
      "\n",
      "data.resample('BMI',how ='median')"
     ],
     "language": "python",
     "metadata": {},
     "outputs": [
      {
       "ename": "ValueError",
       "evalue": "Could not evaluate BMI",
       "output_type": "pyerr",
       "traceback": [
        "\u001b[0;31m---------------------------------------------------------------------------\u001b[0m\n\u001b[0;31mValueError\u001b[0m                                Traceback (most recent call last)",
        "\u001b[0;32m<ipython-input-135-f725a046ac71>\u001b[0m in \u001b[0;36m<module>\u001b[0;34m()\u001b[0m\n\u001b[1;32m      1\u001b[0m \u001b[0;34m\u001b[0m\u001b[0m\n\u001b[0;32m----> 2\u001b[0;31m \u001b[0mdata\u001b[0m\u001b[0;34m.\u001b[0m\u001b[0mresample\u001b[0m\u001b[0;34m(\u001b[0m\u001b[0;34m'BMI'\u001b[0m\u001b[0;34m,\u001b[0m\u001b[0mhow\u001b[0m \u001b[0;34m=\u001b[0m\u001b[0;34m'median'\u001b[0m\u001b[0;34m)\u001b[0m\u001b[0;34m\u001b[0m\u001b[0m\n\u001b[0m",
        "\u001b[0;32m/Users/jamesmankin/Desktop/anaconda/lib/python2.7/site-packages/pandas/core/generic.pyc\u001b[0m in \u001b[0;36mresample\u001b[0;34m(self, rule, how, axis, fill_method, closed, label, convention, kind, loffset, limit, base)\u001b[0m\n\u001b[1;32m   2877\u001b[0m                               \u001b[0maxis\u001b[0m\u001b[0;34m=\u001b[0m\u001b[0maxis\u001b[0m\u001b[0;34m,\u001b[0m \u001b[0mkind\u001b[0m\u001b[0;34m=\u001b[0m\u001b[0mkind\u001b[0m\u001b[0;34m,\u001b[0m \u001b[0mloffset\u001b[0m\u001b[0;34m=\u001b[0m\u001b[0mloffset\u001b[0m\u001b[0;34m,\u001b[0m\u001b[0;34m\u001b[0m\u001b[0m\n\u001b[1;32m   2878\u001b[0m                               \u001b[0mfill_method\u001b[0m\u001b[0;34m=\u001b[0m\u001b[0mfill_method\u001b[0m\u001b[0;34m,\u001b[0m \u001b[0mconvention\u001b[0m\u001b[0;34m=\u001b[0m\u001b[0mconvention\u001b[0m\u001b[0;34m,\u001b[0m\u001b[0;34m\u001b[0m\u001b[0m\n\u001b[0;32m-> 2879\u001b[0;31m                               limit=limit, base=base)\n\u001b[0m\u001b[1;32m   2880\u001b[0m         \u001b[0;32mreturn\u001b[0m \u001b[0msampler\u001b[0m\u001b[0;34m.\u001b[0m\u001b[0mresample\u001b[0m\u001b[0;34m(\u001b[0m\u001b[0mself\u001b[0m\u001b[0;34m)\u001b[0m\u001b[0;34m.\u001b[0m\u001b[0m__finalize__\u001b[0m\u001b[0;34m(\u001b[0m\u001b[0mself\u001b[0m\u001b[0;34m)\u001b[0m\u001b[0;34m\u001b[0m\u001b[0m\n\u001b[1;32m   2881\u001b[0m \u001b[0;34m\u001b[0m\u001b[0m\n",
        "\u001b[0;32m/Users/jamesmankin/Desktop/anaconda/lib/python2.7/site-packages/pandas/tseries/resample.pyc\u001b[0m in \u001b[0;36m__init__\u001b[0;34m(self, freq, closed, label, how, nperiods, axis, fill_method, limit, loffset, kind, convention, base, **kwargs)\u001b[0m\n\u001b[1;32m     42\u001b[0m                  \u001b[0mfill_method\u001b[0m\u001b[0;34m=\u001b[0m\u001b[0mNone\u001b[0m\u001b[0;34m,\u001b[0m \u001b[0mlimit\u001b[0m\u001b[0;34m=\u001b[0m\u001b[0mNone\u001b[0m\u001b[0;34m,\u001b[0m \u001b[0mloffset\u001b[0m\u001b[0;34m=\u001b[0m\u001b[0mNone\u001b[0m\u001b[0;34m,\u001b[0m \u001b[0mkind\u001b[0m\u001b[0;34m=\u001b[0m\u001b[0mNone\u001b[0m\u001b[0;34m,\u001b[0m\u001b[0;34m\u001b[0m\u001b[0m\n\u001b[1;32m     43\u001b[0m                  convention=None, base=0, **kwargs):\n\u001b[0;32m---> 44\u001b[0;31m         \u001b[0mfreq\u001b[0m \u001b[0;34m=\u001b[0m \u001b[0mto_offset\u001b[0m\u001b[0;34m(\u001b[0m\u001b[0mfreq\u001b[0m\u001b[0;34m)\u001b[0m\u001b[0;34m\u001b[0m\u001b[0m\n\u001b[0m\u001b[1;32m     45\u001b[0m \u001b[0;34m\u001b[0m\u001b[0m\n\u001b[1;32m     46\u001b[0m         \u001b[0mend_types\u001b[0m \u001b[0;34m=\u001b[0m \u001b[0mset\u001b[0m\u001b[0;34m(\u001b[0m\u001b[0;34m[\u001b[0m\u001b[0;34m'M'\u001b[0m\u001b[0;34m,\u001b[0m \u001b[0;34m'A'\u001b[0m\u001b[0;34m,\u001b[0m \u001b[0;34m'Q'\u001b[0m\u001b[0;34m,\u001b[0m \u001b[0;34m'BM'\u001b[0m\u001b[0;34m,\u001b[0m \u001b[0;34m'BA'\u001b[0m\u001b[0;34m,\u001b[0m \u001b[0;34m'BQ'\u001b[0m\u001b[0;34m,\u001b[0m \u001b[0;34m'W'\u001b[0m\u001b[0;34m]\u001b[0m\u001b[0;34m)\u001b[0m\u001b[0;34m\u001b[0m\u001b[0m\n",
        "\u001b[0;32m/Users/jamesmankin/Desktop/anaconda/lib/python2.7/site-packages/pandas/tseries/frequencies.pyc\u001b[0m in \u001b[0;36mto_offset\u001b[0;34m(freqstr)\u001b[0m\n\u001b[1;32m    299\u001b[0m                     \u001b[0mdelta\u001b[0m \u001b[0;34m=\u001b[0m \u001b[0mdelta\u001b[0m \u001b[0;34m+\u001b[0m \u001b[0moffset\u001b[0m\u001b[0;34m\u001b[0m\u001b[0m\n\u001b[1;32m    300\u001b[0m         \u001b[0;32mexcept\u001b[0m \u001b[0mException\u001b[0m\u001b[0;34m:\u001b[0m\u001b[0;34m\u001b[0m\u001b[0m\n\u001b[0;32m--> 301\u001b[0;31m             \u001b[0;32mraise\u001b[0m \u001b[0mValueError\u001b[0m\u001b[0;34m(\u001b[0m\u001b[0;34m\"Could not evaluate %s\"\u001b[0m \u001b[0;34m%\u001b[0m \u001b[0mfreqstr\u001b[0m\u001b[0;34m)\u001b[0m\u001b[0;34m\u001b[0m\u001b[0m\n\u001b[0m\u001b[1;32m    302\u001b[0m \u001b[0;34m\u001b[0m\u001b[0m\n\u001b[1;32m    303\u001b[0m     \u001b[0;32mif\u001b[0m \u001b[0mdelta\u001b[0m \u001b[0;32mis\u001b[0m \u001b[0mNone\u001b[0m\u001b[0;34m:\u001b[0m\u001b[0;34m\u001b[0m\u001b[0m\n",
        "\u001b[0;31mValueError\u001b[0m: Could not evaluate BMI"
       ]
      }
     ],
     "prompt_number": 135
    },
    {
     "cell_type": "code",
     "collapsed": false,
     "input": [
      "data = data.set_index('NUM')"
     ],
     "language": "python",
     "metadata": {},
     "outputs": [
      {
       "ename": "KeyError",
       "evalue": "'NUM'",
       "output_type": "pyerr",
       "traceback": [
        "\u001b[0;31m---------------------------------------------------------------------------\u001b[0m\n\u001b[0;31mKeyError\u001b[0m                                  Traceback (most recent call last)",
        "\u001b[0;32m<ipython-input-48-f202ae625f67>\u001b[0m in \u001b[0;36m<module>\u001b[0;34m()\u001b[0m\n\u001b[0;32m----> 1\u001b[0;31m \u001b[0mdata\u001b[0m \u001b[0;34m=\u001b[0m \u001b[0mdata\u001b[0m\u001b[0;34m.\u001b[0m\u001b[0mset_index\u001b[0m\u001b[0;34m(\u001b[0m\u001b[0;34m'NUM'\u001b[0m\u001b[0;34m)\u001b[0m\u001b[0;34m\u001b[0m\u001b[0m\n\u001b[0m",
        "\u001b[0;32m/Users/jamesmankin/Desktop/anaconda/lib/python2.7/site-packages/pandas/core/frame.pyc\u001b[0m in \u001b[0;36mset_index\u001b[0;34m(self, keys, drop, append, inplace, verify_integrity)\u001b[0m\n\u001b[1;32m   2370\u001b[0m                 \u001b[0mnames\u001b[0m\u001b[0;34m.\u001b[0m\u001b[0mappend\u001b[0m\u001b[0;34m(\u001b[0m\u001b[0mNone\u001b[0m\u001b[0;34m)\u001b[0m\u001b[0;34m\u001b[0m\u001b[0m\n\u001b[1;32m   2371\u001b[0m             \u001b[0;32melse\u001b[0m\u001b[0;34m:\u001b[0m\u001b[0;34m\u001b[0m\u001b[0m\n\u001b[0;32m-> 2372\u001b[0;31m                 \u001b[0mlevel\u001b[0m \u001b[0;34m=\u001b[0m \u001b[0mframe\u001b[0m\u001b[0;34m[\u001b[0m\u001b[0mcol\u001b[0m\u001b[0;34m]\u001b[0m\u001b[0;34m.\u001b[0m\u001b[0mvalues\u001b[0m\u001b[0;34m\u001b[0m\u001b[0m\n\u001b[0m\u001b[1;32m   2373\u001b[0m                 \u001b[0mnames\u001b[0m\u001b[0;34m.\u001b[0m\u001b[0mappend\u001b[0m\u001b[0;34m(\u001b[0m\u001b[0mcol\u001b[0m\u001b[0;34m)\u001b[0m\u001b[0;34m\u001b[0m\u001b[0m\n\u001b[1;32m   2374\u001b[0m                 \u001b[0;32mif\u001b[0m \u001b[0mdrop\u001b[0m\u001b[0;34m:\u001b[0m\u001b[0;34m\u001b[0m\u001b[0m\n",
        "\u001b[0;32m/Users/jamesmankin/Desktop/anaconda/lib/python2.7/site-packages/pandas/core/frame.pyc\u001b[0m in \u001b[0;36m__getitem__\u001b[0;34m(self, key)\u001b[0m\n\u001b[1;32m   1676\u001b[0m             \u001b[0;32mreturn\u001b[0m \u001b[0mself\u001b[0m\u001b[0;34m.\u001b[0m\u001b[0m_getitem_multilevel\u001b[0m\u001b[0;34m(\u001b[0m\u001b[0mkey\u001b[0m\u001b[0;34m)\u001b[0m\u001b[0;34m\u001b[0m\u001b[0m\n\u001b[1;32m   1677\u001b[0m         \u001b[0;32melse\u001b[0m\u001b[0;34m:\u001b[0m\u001b[0;34m\u001b[0m\u001b[0m\n\u001b[0;32m-> 1678\u001b[0;31m             \u001b[0;32mreturn\u001b[0m \u001b[0mself\u001b[0m\u001b[0;34m.\u001b[0m\u001b[0m_getitem_column\u001b[0m\u001b[0;34m(\u001b[0m\u001b[0mkey\u001b[0m\u001b[0;34m)\u001b[0m\u001b[0;34m\u001b[0m\u001b[0m\n\u001b[0m\u001b[1;32m   1679\u001b[0m \u001b[0;34m\u001b[0m\u001b[0m\n\u001b[1;32m   1680\u001b[0m     \u001b[0;32mdef\u001b[0m \u001b[0m_getitem_column\u001b[0m\u001b[0;34m(\u001b[0m\u001b[0mself\u001b[0m\u001b[0;34m,\u001b[0m \u001b[0mkey\u001b[0m\u001b[0;34m)\u001b[0m\u001b[0;34m:\u001b[0m\u001b[0;34m\u001b[0m\u001b[0m\n",
        "\u001b[0;32m/Users/jamesmankin/Desktop/anaconda/lib/python2.7/site-packages/pandas/core/frame.pyc\u001b[0m in \u001b[0;36m_getitem_column\u001b[0;34m(self, key)\u001b[0m\n\u001b[1;32m   1683\u001b[0m         \u001b[0;31m# get column\u001b[0m\u001b[0;34m\u001b[0m\u001b[0;34m\u001b[0m\u001b[0m\n\u001b[1;32m   1684\u001b[0m         \u001b[0;32mif\u001b[0m \u001b[0mself\u001b[0m\u001b[0;34m.\u001b[0m\u001b[0mcolumns\u001b[0m\u001b[0;34m.\u001b[0m\u001b[0mis_unique\u001b[0m\u001b[0;34m:\u001b[0m\u001b[0;34m\u001b[0m\u001b[0m\n\u001b[0;32m-> 1685\u001b[0;31m             \u001b[0;32mreturn\u001b[0m \u001b[0mself\u001b[0m\u001b[0;34m.\u001b[0m\u001b[0m_get_item_cache\u001b[0m\u001b[0;34m(\u001b[0m\u001b[0mkey\u001b[0m\u001b[0;34m)\u001b[0m\u001b[0;34m\u001b[0m\u001b[0m\n\u001b[0m\u001b[1;32m   1686\u001b[0m \u001b[0;34m\u001b[0m\u001b[0m\n\u001b[1;32m   1687\u001b[0m         \u001b[0;31m# duplicate columns & possible reduce dimensionaility\u001b[0m\u001b[0;34m\u001b[0m\u001b[0;34m\u001b[0m\u001b[0m\n",
        "\u001b[0;32m/Users/jamesmankin/Desktop/anaconda/lib/python2.7/site-packages/pandas/core/generic.pyc\u001b[0m in \u001b[0;36m_get_item_cache\u001b[0;34m(self, item)\u001b[0m\n\u001b[1;32m   1050\u001b[0m         \u001b[0mres\u001b[0m \u001b[0;34m=\u001b[0m \u001b[0mcache\u001b[0m\u001b[0;34m.\u001b[0m\u001b[0mget\u001b[0m\u001b[0;34m(\u001b[0m\u001b[0mitem\u001b[0m\u001b[0;34m)\u001b[0m\u001b[0;34m\u001b[0m\u001b[0m\n\u001b[1;32m   1051\u001b[0m         \u001b[0;32mif\u001b[0m \u001b[0mres\u001b[0m \u001b[0;32mis\u001b[0m \u001b[0mNone\u001b[0m\u001b[0;34m:\u001b[0m\u001b[0;34m\u001b[0m\u001b[0m\n\u001b[0;32m-> 1052\u001b[0;31m             \u001b[0mvalues\u001b[0m \u001b[0;34m=\u001b[0m \u001b[0mself\u001b[0m\u001b[0;34m.\u001b[0m\u001b[0m_data\u001b[0m\u001b[0;34m.\u001b[0m\u001b[0mget\u001b[0m\u001b[0;34m(\u001b[0m\u001b[0mitem\u001b[0m\u001b[0;34m)\u001b[0m\u001b[0;34m\u001b[0m\u001b[0m\n\u001b[0m\u001b[1;32m   1053\u001b[0m             \u001b[0mres\u001b[0m \u001b[0;34m=\u001b[0m \u001b[0mself\u001b[0m\u001b[0;34m.\u001b[0m\u001b[0m_box_item_values\u001b[0m\u001b[0;34m(\u001b[0m\u001b[0mitem\u001b[0m\u001b[0;34m,\u001b[0m \u001b[0mvalues\u001b[0m\u001b[0;34m)\u001b[0m\u001b[0;34m\u001b[0m\u001b[0m\n\u001b[1;32m   1054\u001b[0m             \u001b[0mcache\u001b[0m\u001b[0;34m[\u001b[0m\u001b[0mitem\u001b[0m\u001b[0;34m]\u001b[0m \u001b[0;34m=\u001b[0m \u001b[0mres\u001b[0m\u001b[0;34m\u001b[0m\u001b[0m\n",
        "\u001b[0;32m/Users/jamesmankin/Desktop/anaconda/lib/python2.7/site-packages/pandas/core/internals.pyc\u001b[0m in \u001b[0;36mget\u001b[0;34m(self, item, fastpath)\u001b[0m\n\u001b[1;32m   2563\u001b[0m \u001b[0;34m\u001b[0m\u001b[0m\n\u001b[1;32m   2564\u001b[0m             \u001b[0;32mif\u001b[0m \u001b[0;32mnot\u001b[0m \u001b[0misnull\u001b[0m\u001b[0;34m(\u001b[0m\u001b[0mitem\u001b[0m\u001b[0;34m)\u001b[0m\u001b[0;34m:\u001b[0m\u001b[0;34m\u001b[0m\u001b[0m\n\u001b[0;32m-> 2565\u001b[0;31m                 \u001b[0mloc\u001b[0m \u001b[0;34m=\u001b[0m \u001b[0mself\u001b[0m\u001b[0;34m.\u001b[0m\u001b[0mitems\u001b[0m\u001b[0;34m.\u001b[0m\u001b[0mget_loc\u001b[0m\u001b[0;34m(\u001b[0m\u001b[0mitem\u001b[0m\u001b[0;34m)\u001b[0m\u001b[0;34m\u001b[0m\u001b[0m\n\u001b[0m\u001b[1;32m   2566\u001b[0m             \u001b[0;32melse\u001b[0m\u001b[0;34m:\u001b[0m\u001b[0;34m\u001b[0m\u001b[0m\n\u001b[1;32m   2567\u001b[0m                 \u001b[0mindexer\u001b[0m \u001b[0;34m=\u001b[0m \u001b[0mnp\u001b[0m\u001b[0;34m.\u001b[0m\u001b[0marange\u001b[0m\u001b[0;34m(\u001b[0m\u001b[0mlen\u001b[0m\u001b[0;34m(\u001b[0m\u001b[0mself\u001b[0m\u001b[0;34m.\u001b[0m\u001b[0mitems\u001b[0m\u001b[0;34m)\u001b[0m\u001b[0;34m)\u001b[0m\u001b[0;34m[\u001b[0m\u001b[0misnull\u001b[0m\u001b[0;34m(\u001b[0m\u001b[0mself\u001b[0m\u001b[0;34m.\u001b[0m\u001b[0mitems\u001b[0m\u001b[0;34m)\u001b[0m\u001b[0;34m]\u001b[0m\u001b[0;34m\u001b[0m\u001b[0m\n",
        "\u001b[0;32m/Users/jamesmankin/Desktop/anaconda/lib/python2.7/site-packages/pandas/core/index.pyc\u001b[0m in \u001b[0;36mget_loc\u001b[0;34m(self, key)\u001b[0m\n\u001b[1;32m   1179\u001b[0m         \u001b[0mloc\u001b[0m \u001b[0;34m:\u001b[0m \u001b[0mint\u001b[0m \u001b[0;32mif\u001b[0m \u001b[0munique\u001b[0m \u001b[0mindex\u001b[0m\u001b[0;34m,\u001b[0m \u001b[0mpossibly\u001b[0m \u001b[0mslice\u001b[0m \u001b[0;32mor\u001b[0m \u001b[0mmask\u001b[0m \u001b[0;32mif\u001b[0m \u001b[0;32mnot\u001b[0m\u001b[0;34m\u001b[0m\u001b[0m\n\u001b[1;32m   1180\u001b[0m         \"\"\"\n\u001b[0;32m-> 1181\u001b[0;31m         \u001b[0;32mreturn\u001b[0m \u001b[0mself\u001b[0m\u001b[0;34m.\u001b[0m\u001b[0m_engine\u001b[0m\u001b[0;34m.\u001b[0m\u001b[0mget_loc\u001b[0m\u001b[0;34m(\u001b[0m\u001b[0m_values_from_object\u001b[0m\u001b[0;34m(\u001b[0m\u001b[0mkey\u001b[0m\u001b[0;34m)\u001b[0m\u001b[0;34m)\u001b[0m\u001b[0;34m\u001b[0m\u001b[0m\n\u001b[0m\u001b[1;32m   1182\u001b[0m \u001b[0;34m\u001b[0m\u001b[0m\n\u001b[1;32m   1183\u001b[0m     \u001b[0;32mdef\u001b[0m \u001b[0mget_value\u001b[0m\u001b[0;34m(\u001b[0m\u001b[0mself\u001b[0m\u001b[0;34m,\u001b[0m \u001b[0mseries\u001b[0m\u001b[0;34m,\u001b[0m \u001b[0mkey\u001b[0m\u001b[0;34m)\u001b[0m\u001b[0;34m:\u001b[0m\u001b[0;34m\u001b[0m\u001b[0m\n",
        "\u001b[0;32m/Users/jamesmankin/Desktop/anaconda/lib/python2.7/site-packages/pandas/index.so\u001b[0m in \u001b[0;36mpandas.index.IndexEngine.get_loc (pandas/index.c:3656)\u001b[0;34m()\u001b[0m\n",
        "\u001b[0;32m/Users/jamesmankin/Desktop/anaconda/lib/python2.7/site-packages/pandas/index.so\u001b[0m in \u001b[0;36mpandas.index.IndexEngine.get_loc (pandas/index.c:3534)\u001b[0;34m()\u001b[0m\n",
        "\u001b[0;32m/Users/jamesmankin/Desktop/anaconda/lib/python2.7/site-packages/pandas/hashtable.so\u001b[0m in \u001b[0;36mpandas.hashtable.PyObjectHashTable.get_item (pandas/hashtable.c:11911)\u001b[0;34m()\u001b[0m\n",
        "\u001b[0;32m/Users/jamesmankin/Desktop/anaconda/lib/python2.7/site-packages/pandas/hashtable.so\u001b[0m in \u001b[0;36mpandas.hashtable.PyObjectHashTable.get_item (pandas/hashtable.c:11864)\u001b[0;34m()\u001b[0m\n",
        "\u001b[0;31mKeyError\u001b[0m: 'NUM'"
       ]
      }
     ],
     "prompt_number": 48
    },
    {
     "cell_type": "code",
     "collapsed": false,
     "input": [
      "label = pd.read_csv('testDeletedZeros.csv',index_col='NUM',dtype={'NUM': np.int, 'LOS':np.float32},usecols=['NUM','LOS'])\n",
      "features = pd.read_csv('testDeletedZeros.csv',index_col='NUM',usecols=['NUM','LOS','AGE'])"
     ],
     "language": "python",
     "metadata": {},
     "outputs": [],
     "prompt_number": 139
    },
    {
     "cell_type": "code",
     "collapsed": false,
     "input": [
      "features.head()"
     ],
     "language": "python",
     "metadata": {},
     "outputs": [
      {
       "html": [
        "<div style=\"max-height:1000px;max-width:1500px;overflow:auto;\">\n",
        "<table border=\"1\" class=\"dataframe\">\n",
        "  <thead>\n",
        "    <tr style=\"text-align: right;\">\n",
        "      <th></th>\n",
        "      <th>LOS</th>\n",
        "      <th>AGE</th>\n",
        "    </tr>\n",
        "    <tr>\n",
        "      <th>NUM</th>\n",
        "      <th></th>\n",
        "      <th></th>\n",
        "    </tr>\n",
        "  </thead>\n",
        "  <tbody>\n",
        "    <tr>\n",
        "      <th>100032370</th>\n",
        "      <td> 131.96</td>\n",
        "      <td> 15</td>\n",
        "    </tr>\n",
        "    <tr>\n",
        "      <th>100032798</th>\n",
        "      <td> 116.99</td>\n",
        "      <td> 15</td>\n",
        "    </tr>\n",
        "    <tr>\n",
        "      <th>100035295</th>\n",
        "      <td>  87.40</td>\n",
        "      <td> 15</td>\n",
        "    </tr>\n",
        "    <tr>\n",
        "      <th>100035529</th>\n",
        "      <td>  77.96</td>\n",
        "      <td> 15</td>\n",
        "    </tr>\n",
        "    <tr>\n",
        "      <th>100035568</th>\n",
        "      <td>  72.57</td>\n",
        "      <td> 15</td>\n",
        "    </tr>\n",
        "  </tbody>\n",
        "</table>\n",
        "</div>"
       ],
       "metadata": {},
       "output_type": "pyout",
       "prompt_number": 166,
       "text": [
        "              LOS  AGE\n",
        "NUM                   \n",
        "100032370  131.96   15\n",
        "100032798  116.99   15\n",
        "100035295   87.40   15\n",
        "100035529   77.96   15\n",
        "100035568   72.57   15"
       ]
      }
     ],
     "prompt_number": 166
    },
    {
     "cell_type": "code",
     "collapsed": false,
     "input": [
      "features.values"
     ],
     "language": "python",
     "metadata": {},
     "outputs": [
      {
       "metadata": {},
       "output_type": "pyout",
       "prompt_number": 167,
       "text": [
        "array([[  1.31960000e+02,   1.50000000e+01],\n",
        "       [  1.16990000e+02,   1.50000000e+01],\n",
        "       [  8.74000000e+01,   1.50000000e+01],\n",
        "       ..., \n",
        "       [  1.00000000e-02,   9.20000000e+01],\n",
        "       [  1.00000000e-02,   9.50000000e+01],\n",
        "       [  1.00000000e-02,   9.50000000e+01]])"
       ]
      }
     ],
     "prompt_number": 167
    },
    {
     "cell_type": "code",
     "collapsed": false,
     "input": [
      "import pandas as pd\n",
      "pd.set_option('display.max_columns', None)\n",
      "%pylab inline\n",
      "import seaborn as sns\n",
      "sns.set()\n",
      "import copy"
     ],
     "language": "python",
     "metadata": {},
     "outputs": [
      {
       "output_type": "stream",
       "stream": "stdout",
       "text": [
        "Populating the interactive namespace from numpy and matplotlib\n"
       ]
      },
      {
       "output_type": "stream",
       "stream": "stderr",
       "text": [
        "WARNING: pylab import has clobbered these variables: ['copy']\n",
        "`%matplotlib` prevents importing * from pylab and numpy\n"
       ]
      }
     ],
     "prompt_number": 141
    },
    {
     "cell_type": "code",
     "collapsed": false,
     "input": [
      "\n",
      "from sklearn import preprocessing\n",
      "\n",
      "X_scaled = preprocessing.scale(X) # many methods work better on scaled X\n",
      "train_X = X_scaled[:half]\n",
      "train_Y = Y[:half]\n",
      "test_X = X_scaled[half:]\n",
      "test_Y = Y[half:]\n",
      "clf1 = neighbors.KNeighborsRegressor(10)\n",
      "clf1.fit(train_X,train_Y)"
     ],
     "language": "python",
     "metadata": {},
     "outputs": [
      {
       "ename": "IndexError",
       "evalue": "invalid slice",
       "output_type": "pyerr",
       "traceback": [
        "\u001b[0;31m---------------------------------------------------------------------------\u001b[0m\n\u001b[0;31mIndexError\u001b[0m                                Traceback (most recent call last)",
        "\u001b[0;32m<ipython-input-153-0b9fc3c036cd>\u001b[0m in \u001b[0;36m<module>\u001b[0;34m()\u001b[0m\n\u001b[1;32m      3\u001b[0m \u001b[0;34m\u001b[0m\u001b[0m\n\u001b[1;32m      4\u001b[0m \u001b[0mX_scaled\u001b[0m \u001b[0;34m=\u001b[0m \u001b[0mpreprocessing\u001b[0m\u001b[0;34m.\u001b[0m\u001b[0mscale\u001b[0m\u001b[0;34m(\u001b[0m\u001b[0mX\u001b[0m\u001b[0;34m)\u001b[0m \u001b[0;31m# many methods work better on scaled X\u001b[0m\u001b[0;34m\u001b[0m\u001b[0m\n\u001b[0;32m----> 5\u001b[0;31m \u001b[0mtrain_X\u001b[0m \u001b[0;34m=\u001b[0m \u001b[0mX_scaled\u001b[0m\u001b[0;34m[\u001b[0m\u001b[0;34m:\u001b[0m\u001b[0mhalf\u001b[0m\u001b[0;34m]\u001b[0m\u001b[0;34m\u001b[0m\u001b[0m\n\u001b[0m\u001b[1;32m      6\u001b[0m \u001b[0mtrain_Y\u001b[0m \u001b[0;34m=\u001b[0m \u001b[0mY\u001b[0m\u001b[0;34m[\u001b[0m\u001b[0;34m:\u001b[0m\u001b[0mhalf\u001b[0m\u001b[0;34m]\u001b[0m\u001b[0;34m\u001b[0m\u001b[0m\n\u001b[1;32m      7\u001b[0m \u001b[0mtest_X\u001b[0m \u001b[0;34m=\u001b[0m \u001b[0mX_scaled\u001b[0m\u001b[0;34m[\u001b[0m\u001b[0mhalf\u001b[0m\u001b[0;34m:\u001b[0m\u001b[0;34m]\u001b[0m\u001b[0;34m\u001b[0m\u001b[0m\n",
        "\u001b[0;31mIndexError\u001b[0m: invalid slice"
       ]
      }
     ],
     "prompt_number": 153
    },
    {
     "cell_type": "code",
     "collapsed": false,
     "input": [
      "X = features.values\n",
      "Y = np.atleast_1d(label.values).ravel()\n",
      "print X.shape\n",
      "print Y.shape\n",
      "\n",
      "half = floor(len(Y)/2)\n",
      "train_X = X[:half]\n",
      "train_Y = Y[:half]\n",
      "test_X = X[half:]\n",
      "test_Y = Y[half:]"
     ],
     "language": "python",
     "metadata": {},
     "outputs": [
      {
       "output_type": "stream",
       "stream": "stdout",
       "text": [
        "(12576, 2)\n",
        "(12576,)\n"
       ]
      }
     ],
     "prompt_number": 162
    },
    {
     "cell_type": "code",
     "collapsed": false,
     "input": [
      "X.astype(int)"
     ],
     "language": "python",
     "metadata": {},
     "outputs": [
      {
       "metadata": {},
       "output_type": "pyout",
       "prompt_number": 165,
       "text": [
        "array([[131,  15],\n",
        "       [116,  15],\n",
        "       [ 87,  15],\n",
        "       ..., \n",
        "       [  0,  92],\n",
        "       [  0,  95],\n",
        "       [  0,  95]])"
       ]
      }
     ],
     "prompt_number": 165
    },
    {
     "cell_type": "code",
     "collapsed": false,
     "input": [
      "plt.plot(X[:, 0], X[:, 1], '.k')"
     ],
     "language": "python",
     "metadata": {},
     "outputs": [
      {
       "metadata": {},
       "output_type": "pyout",
       "prompt_number": 163,
       "text": [
        "[<matplotlib.lines.Line2D at 0x10765b9d0>]"
       ]
      },
      {
       "metadata": {},
       "output_type": "display_data",
       "png": "[encoded data removed]",
       "text": [
        "<matplotlib.figure.Figure at 0x10da2a950>"
       ]
      }
     ],
     "prompt_number": 163
    },
    {
     "cell_type": "code",
     "collapsed": false,
     "input": [
      "from sklearn.ensemble import RandomForestRegressor\n",
      "clf2 = RandomForestRegressor(n_estimators=100, \n",
      "                            criterion='mse', max_depth=None, \n",
      "                            min_samples_split=2, min_samples_leaf=1, \n",
      "                            max_features='auto', max_leaf_nodes=None, \n",
      "                            bootstrap=True, oob_score=True, n_jobs=1, \n",
      "                            random_state=None, verbose=0, \n",
      "                            min_density=None, compute_importances=None)\n",
      "clf2.fit(train_X ,train_Y)"
     ],
     "language": "python",
     "metadata": {},
     "outputs": [
      {
       "metadata": {},
       "output_type": "pyout",
       "prompt_number": 156,
       "text": [
        "RandomForestRegressor(bootstrap=True, compute_importances=None,\n",
        "           criterion='mse', max_depth=None, max_features='auto',\n",
        "           max_leaf_nodes=None, min_density=None, min_samples_leaf=1,\n",
        "           min_samples_split=2, n_estimators=100, n_jobs=1, oob_score=True,\n",
        "           random_state=None, verbose=0)"
       ]
      }
     ],
     "prompt_number": 156
    },
    {
     "cell_type": "code",
     "collapsed": false,
     "input": [
      "from sklearn.metrics import mean_squared_error\n",
      "Y_rf_pred = clf2.predict(test_X)\n",
      "mse = mean_squared_error(test_Y,Y_rf_pred) ; print mse\n",
      "scatter(test_Y, Y_rf_pred - test_Y,alpha=0.2)\n",
      "title(\"RF Residuals - MSE = %.1f\" % mse)\n",
      "xlabel(\"Lenth of Stay\")\n",
      "ylabel(\"Age\")\n",
      "hlines(0,min(test_Y),max(test_Y),color=\"red\")"
     ],
     "language": "python",
     "metadata": {},
     "outputs": [
      {
       "output_type": "stream",
       "stream": "stdout",
       "text": [
        "1.12862496416\n"
       ]
      },
      {
       "metadata": {},
       "output_type": "pyout",
       "prompt_number": 159,
       "text": [
        "<matplotlib.collections.LineCollection at 0x10d108c50>"
       ]
      },
      {
       "metadata": {},
       "output_type": "display_data",
       "png": "[encoded data removed]",
       "text": [
        "<matplotlib.figure.Figure at 0x118c64ad0>"
       ]
      }
     ],
     "prompt_number": 159
    },
    {
     "cell_type": "code",
     "collapsed": false,
     "input": [],
     "language": "python",
     "metadata": {},
     "outputs": []
    }
   ],
   "metadata": {}
  }
 ]
}