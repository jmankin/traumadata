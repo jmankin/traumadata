{
 "metadata": {
  "name": "",
  "signature": "sha256:0572b0f2101e1be6bf8e4ac3796e264e07471f73920ad1697439c28ef689b353"
 },
 "nbformat": 3,
 "nbformat_minor": 0,
 "worksheets": [
  {
   "cells": [
    {
     "cell_type": "markdown",
     "metadata": {},
     "source": [
      "This is my second commit"
     ]
    },
    {
     "cell_type": "code",
     "collapsed": false,
     "input": [
      "import numpy as np\n",
      "import pandas as pd\n",
      "import matplotlib as pl\n",
      "import sklearn as sk"
     ],
     "language": "python",
     "metadata": {},
     "outputs": [],
     "prompt_number": 1
    },
    {
     "cell_type": "code",
     "collapsed": false,
     "input": [
      "data = pd.read_csv('toxdata.csv',na_values=\" \")"
     ],
     "language": "python",
     "metadata": {},
     "outputs": [],
     "prompt_number": 3
    },
    {
     "cell_type": "markdown",
     "metadata": {},
     "source": [
      "It is important in the above cell to use na_values=\" \" to put NaN in the cells with strings. This na_values=\" \" enables the ability to use .describe()"
     ]
    },
    {
     "cell_type": "code",
     "collapsed": false,
     "input": [
      "data.head()"
     ],
     "language": "python",
     "metadata": {},
     "outputs": [
      {
       "html": [
        "<div style=\"max-height:1000px;max-width:1500px;overflow:auto;\">\n",
        "<table border=\"1\" class=\"dataframe\">\n",
        "  <thead>\n",
        "    <tr style=\"text-align: right;\">\n",
        "      <th></th>\n",
        "      <th>NUM</th>\n",
        "      <th>MULT_MOI</th>\n",
        "      <th>MOI</th>\n",
        "      <th>INTENT</th>\n",
        "      <th>INJURY</th>\n",
        "      <th>SEX</th>\n",
        "      <th>ICU_LOS</th>\n",
        "      <th>ISS</th>\n",
        "      <th>LOS</th>\n",
        "      <th>FINAL_OUT</th>\n",
        "      <th>...</th>\n",
        "      <th>RES7</th>\n",
        "      <th>TOX8</th>\n",
        "      <th>RES8</th>\n",
        "      <th>TOX9</th>\n",
        "      <th>RES9</th>\n",
        "      <th>ALC_USE</th>\n",
        "      <th>BAC</th>\n",
        "      <th>DRUG_USE</th>\n",
        "      <th>BMI</th>\n",
        "      <th>AGE</th>\n",
        "    </tr>\n",
        "  </thead>\n",
        "  <tbody>\n",
        "    <tr>\n",
        "      <th>0</th>\n",
        "      <td> 100031333</td>\n",
        "      <td> NaN</td>\n",
        "      <td> CUT-PIERCE</td>\n",
        "      <td> ASSAULT</td>\n",
        "      <td> ASSAULT</td>\n",
        "      <td> M</td>\n",
        "      <td>  5</td>\n",
        "      <td> 10</td>\n",
        "      <td> 4.80</td>\n",
        "      <td> L</td>\n",
        "      <td>...</td>\n",
        "      <td>        NaN</td>\n",
        "      <td>           NaN</td>\n",
        "      <td>        NaN</td>\n",
        "      <td> NaN</td>\n",
        "      <td> NaN</td>\n",
        "      <td>  CONFIRMED_NONE</td>\n",
        "      <td>  0</td>\n",
        "      <td> YES_LGL+ILLEGAL</td>\n",
        "      <td>  20</td>\n",
        "      <td> 15</td>\n",
        "    </tr>\n",
        "    <tr>\n",
        "      <th>1</th>\n",
        "      <td> 100031550</td>\n",
        "      <td> NaN</td>\n",
        "      <td> CUT-PIERCE</td>\n",
        "      <td> ASSAULT</td>\n",
        "      <td> ASSAULT</td>\n",
        "      <td> M</td>\n",
        "      <td>NaN</td>\n",
        "      <td>  9</td>\n",
        "      <td> 2.88</td>\n",
        "      <td> L</td>\n",
        "      <td>...</td>\n",
        "      <td>  NOT FOUND</td>\n",
        "      <td>           NaN</td>\n",
        "      <td>        NaN</td>\n",
        "      <td> NaN</td>\n",
        "      <td> NaN</td>\n",
        "      <td>  CONFIRMED_NONE</td>\n",
        "      <td>  0</td>\n",
        "      <td>    CONFIRMED_NO</td>\n",
        "      <td>  20</td>\n",
        "      <td> 15</td>\n",
        "    </tr>\n",
        "    <tr>\n",
        "      <th>2</th>\n",
        "      <td> 100031718</td>\n",
        "      <td> NaN</td>\n",
        "      <td> CUT-PIERCE</td>\n",
        "      <td> ASSAULT</td>\n",
        "      <td> ASSAULT</td>\n",
        "      <td> M</td>\n",
        "      <td>NaN</td>\n",
        "      <td>  1</td>\n",
        "      <td> 0.03</td>\n",
        "      <td> L</td>\n",
        "      <td>...</td>\n",
        "      <td> NOT TESTED</td>\n",
        "      <td> THC MARIJUANA</td>\n",
        "      <td>        NaN</td>\n",
        "      <td> NaN</td>\n",
        "      <td> NaN</td>\n",
        "      <td>  CONFIRMED_NONE</td>\n",
        "      <td>  0</td>\n",
        "      <td>   NOT_SUSPECTED</td>\n",
        "      <td> NaN</td>\n",
        "      <td> 15</td>\n",
        "    </tr>\n",
        "    <tr>\n",
        "      <th>3</th>\n",
        "      <td> 100032162</td>\n",
        "      <td> NaN</td>\n",
        "      <td> CUT-PIERCE</td>\n",
        "      <td> ASSAULT</td>\n",
        "      <td> ASSAULT</td>\n",
        "      <td> M</td>\n",
        "      <td>  1</td>\n",
        "      <td> 10</td>\n",
        "      <td> 7.36</td>\n",
        "      <td> L</td>\n",
        "      <td>...</td>\n",
        "      <td>        NaN</td>\n",
        "      <td>           NaN</td>\n",
        "      <td>        NaN</td>\n",
        "      <td> NaN</td>\n",
        "      <td> NaN</td>\n",
        "      <td> BELOW_LEGAL_LMT</td>\n",
        "      <td> 70</td>\n",
        "      <td> YES_ILLEGAL_USE</td>\n",
        "      <td> 135</td>\n",
        "      <td> 15</td>\n",
        "    </tr>\n",
        "    <tr>\n",
        "      <th>4</th>\n",
        "      <td> 100032638</td>\n",
        "      <td> NaN</td>\n",
        "      <td> CUT-PIERCE</td>\n",
        "      <td> ASSAULT</td>\n",
        "      <td> ASSAULT</td>\n",
        "      <td> M</td>\n",
        "      <td>NaN</td>\n",
        "      <td>  6</td>\n",
        "      <td> 0.35</td>\n",
        "      <td> L</td>\n",
        "      <td>...</td>\n",
        "      <td> NOT TESTED</td>\n",
        "      <td> THC MARIJUANA</td>\n",
        "      <td> NOT TESTED</td>\n",
        "      <td> NaN</td>\n",
        "      <td> NaN</td>\n",
        "      <td>  CONFIRMED_NONE</td>\n",
        "      <td>  0</td>\n",
        "      <td>   NOT_SUSPECTED</td>\n",
        "      <td> NaN</td>\n",
        "      <td> 15</td>\n",
        "    </tr>\n",
        "  </tbody>\n",
        "</table>\n",
        "<p>5 rows \u00d7 36 columns</p>\n",
        "</div>"
       ],
       "metadata": {},
       "output_type": "pyout",
       "prompt_number": 4,
       "text": [
        "         NUM MULT_MOI         MOI   INTENT   INJURY SEX  ICU_LOS  ISS   LOS  \\\n",
        "0  100031333      NaN  CUT-PIERCE  ASSAULT  ASSAULT   M        5   10  4.80   \n",
        "1  100031550      NaN  CUT-PIERCE  ASSAULT  ASSAULT   M      NaN    9  2.88   \n",
        "2  100031718      NaN  CUT-PIERCE  ASSAULT  ASSAULT   M      NaN    1  0.03   \n",
        "3  100032162      NaN  CUT-PIERCE  ASSAULT  ASSAULT   M        1   10  7.36   \n",
        "4  100032638      NaN  CUT-PIERCE  ASSAULT  ASSAULT   M      NaN    6  0.35   \n",
        "\n",
        "  FINAL_OUT    ...           RES7           TOX8        RES8 TOX9 RES9  \\\n",
        "0         L    ...            NaN            NaN         NaN  NaN  NaN   \n",
        "1         L    ...      NOT FOUND            NaN         NaN  NaN  NaN   \n",
        "2         L    ...     NOT TESTED  THC MARIJUANA         NaN  NaN  NaN   \n",
        "3         L    ...            NaN            NaN         NaN  NaN  NaN   \n",
        "4         L    ...     NOT TESTED  THC MARIJUANA  NOT TESTED  NaN  NaN   \n",
        "\n",
        "           ALC_USE BAC         DRUG_USE  BMI AGE  \n",
        "0   CONFIRMED_NONE   0  YES_LGL+ILLEGAL   20  15  \n",
        "1   CONFIRMED_NONE   0     CONFIRMED_NO   20  15  \n",
        "2   CONFIRMED_NONE   0    NOT_SUSPECTED  NaN  15  \n",
        "3  BELOW_LEGAL_LMT  70  YES_ILLEGAL_USE  135  15  \n",
        "4   CONFIRMED_NONE   0    NOT_SUSPECTED  NaN  15  \n",
        "\n",
        "[5 rows x 36 columns]"
       ]
      }
     ],
     "prompt_number": 4
    },
    {
     "cell_type": "code",
     "collapsed": false,
     "input": [
      "data.describe()"
     ],
     "language": "python",
     "metadata": {},
     "outputs": [
      {
       "html": [
        "<div style=\"max-height:1000px;max-width:1500px;overflow:auto;\">\n",
        "<table border=\"1\" class=\"dataframe\">\n",
        "  <thead>\n",
        "    <tr style=\"text-align: right;\">\n",
        "      <th></th>\n",
        "      <th>NUM</th>\n",
        "      <th>ICU_LOS</th>\n",
        "      <th>ISS</th>\n",
        "      <th>LOS</th>\n",
        "      <th>YEAR</th>\n",
        "      <th>MONTH</th>\n",
        "      <th>BAC</th>\n",
        "      <th>BMI</th>\n",
        "      <th>AGE</th>\n",
        "    </tr>\n",
        "  </thead>\n",
        "  <tbody>\n",
        "    <tr>\n",
        "      <th>count</th>\n",
        "      <td> 1.272600e+04</td>\n",
        "      <td> 5054.000000</td>\n",
        "      <td> 11562.000000</td>\n",
        "      <td> 12718.000000</td>\n",
        "      <td> 12726.000000</td>\n",
        "      <td> 12726.000000</td>\n",
        "      <td> 11744.000000</td>\n",
        "      <td> 10478.000000</td>\n",
        "      <td> 12726.000000</td>\n",
        "    </tr>\n",
        "    <tr>\n",
        "      <th>mean</th>\n",
        "      <td> 1.000419e+08</td>\n",
        "      <td>    4.378512</td>\n",
        "      <td>     9.448971</td>\n",
        "      <td>     3.606264</td>\n",
        "      <td>  2010.996464</td>\n",
        "      <td>     6.513909</td>\n",
        "      <td>    52.460916</td>\n",
        "      <td>    29.570338</td>\n",
        "      <td>    37.890853</td>\n",
        "    </tr>\n",
        "    <tr>\n",
        "      <th>std</th>\n",
        "      <td> 5.877379e+03</td>\n",
        "      <td>    5.723093</td>\n",
        "      <td>    10.941266</td>\n",
        "      <td>     6.058926</td>\n",
        "      <td>     1.405877</td>\n",
        "      <td>     3.411307</td>\n",
        "      <td>   101.101387</td>\n",
        "      <td>    59.040497</td>\n",
        "      <td>    17.775097</td>\n",
        "    </tr>\n",
        "    <tr>\n",
        "      <th>min</th>\n",
        "      <td> 1.000312e+08</td>\n",
        "      <td>    0.000000</td>\n",
        "      <td>     1.000000</td>\n",
        "      <td>     0.000000</td>\n",
        "      <td>  2009.000000</td>\n",
        "      <td>     1.000000</td>\n",
        "      <td>     0.000000</td>\n",
        "      <td>     2.000000</td>\n",
        "      <td>    15.000000</td>\n",
        "    </tr>\n",
        "    <tr>\n",
        "      <th>25%</th>\n",
        "      <td> 1.000370e+08</td>\n",
        "      <td>    1.000000</td>\n",
        "      <td>     1.000000</td>\n",
        "      <td>     0.632500</td>\n",
        "      <td>  2010.000000</td>\n",
        "      <td>     4.000000</td>\n",
        "      <td>     0.000000</td>\n",
        "      <td>    23.000000</td>\n",
        "      <td>    23.000000</td>\n",
        "    </tr>\n",
        "    <tr>\n",
        "      <th>50%</th>\n",
        "      <td> 1.000423e+08</td>\n",
        "      <td>    2.000000</td>\n",
        "      <td>     5.000000</td>\n",
        "      <td>     1.570000</td>\n",
        "      <td>  2011.000000</td>\n",
        "      <td>     6.000000</td>\n",
        "      <td>     0.000000</td>\n",
        "      <td>    27.000000</td>\n",
        "      <td>    34.000000</td>\n",
        "    </tr>\n",
        "    <tr>\n",
        "      <th>75%</th>\n",
        "      <td> 1.000469e+08</td>\n",
        "      <td>    5.000000</td>\n",
        "      <td>    14.000000</td>\n",
        "      <td>     3.960000</td>\n",
        "      <td>  2012.000000</td>\n",
        "      <td>    10.000000</td>\n",
        "      <td>    42.000000</td>\n",
        "      <td>    31.000000</td>\n",
        "      <td>    49.000000</td>\n",
        "    </tr>\n",
        "    <tr>\n",
        "      <th>max</th>\n",
        "      <td> 1.000522e+08</td>\n",
        "      <td>   72.000000</td>\n",
        "      <td>    75.000000</td>\n",
        "      <td>   131.960000</td>\n",
        "      <td>  2013.000000</td>\n",
        "      <td>    12.000000</td>\n",
        "      <td>   604.000000</td>\n",
        "      <td>  5833.000000</td>\n",
        "      <td>    98.000000</td>\n",
        "    </tr>\n",
        "  </tbody>\n",
        "</table>\n",
        "</div>"
       ],
       "metadata": {},
       "output_type": "pyout",
       "prompt_number": 5,
       "text": [
        "                NUM      ICU_LOS           ISS           LOS          YEAR  \\\n",
        "count  1.272600e+04  5054.000000  11562.000000  12718.000000  12726.000000   \n",
        "mean   1.000419e+08     4.378512      9.448971      3.606264   2010.996464   \n",
        "std    5.877379e+03     5.723093     10.941266      6.058926      1.405877   \n",
        "min    1.000312e+08     0.000000      1.000000      0.000000   2009.000000   \n",
        "25%    1.000370e+08     1.000000      1.000000      0.632500   2010.000000   \n",
        "50%    1.000423e+08     2.000000      5.000000      1.570000   2011.000000   \n",
        "75%    1.000469e+08     5.000000     14.000000      3.960000   2012.000000   \n",
        "max    1.000522e+08    72.000000     75.000000    131.960000   2013.000000   \n",
        "\n",
        "              MONTH           BAC           BMI           AGE  \n",
        "count  12726.000000  11744.000000  10478.000000  12726.000000  \n",
        "mean       6.513909     52.460916     29.570338     37.890853  \n",
        "std        3.411307    101.101387     59.040497     17.775097  \n",
        "min        1.000000      0.000000      2.000000     15.000000  \n",
        "25%        4.000000      0.000000     23.000000     23.000000  \n",
        "50%        6.000000      0.000000     27.000000     34.000000  \n",
        "75%       10.000000     42.000000     31.000000     49.000000  \n",
        "max       12.000000    604.000000   5833.000000     98.000000  "
       ]
      }
     ],
     "prompt_number": 5
    },
    {
     "cell_type": "code",
     "collapsed": false,
     "input": [
      "features = pd.read_csv('toxdata.csv',na_values=\" \",index_col='NUM',dtype={'NUM': np.int, 'LOS':np.float32},usecols=['NUM','LOS','ISS','YEAR','MONTH','BAC','BMI','AGE'])\n",
      "label = pd.read_csv('toxdata.csv',na_values=\" \",dtype={'NUM': np.int, 'LOS':np.float32},index_col='NUM',usecols=['LOS'])"
     ],
     "language": "python",
     "metadata": {},
     "outputs": [
      {
       "ename": "ValueError",
       "evalue": "Index NUM invalid",
       "output_type": "pyerr",
       "traceback": [
        "\u001b[0;31m---------------------------------------------------------------------------\u001b[0m\n\u001b[0;31mValueError\u001b[0m                                Traceback (most recent call last)",
        "\u001b[0;32m<ipython-input-7-d30527d71f6f>\u001b[0m in \u001b[0;36m<module>\u001b[0;34m()\u001b[0m\n\u001b[1;32m      1\u001b[0m \u001b[0mfeatures\u001b[0m \u001b[0;34m=\u001b[0m \u001b[0mpd\u001b[0m\u001b[0;34m.\u001b[0m\u001b[0mread_csv\u001b[0m\u001b[0;34m(\u001b[0m\u001b[0;34m'toxdata.csv'\u001b[0m\u001b[0;34m,\u001b[0m\u001b[0mna_values\u001b[0m\u001b[0;34m=\u001b[0m\u001b[0;34m\" \"\u001b[0m\u001b[0;34m,\u001b[0m\u001b[0mindex_col\u001b[0m\u001b[0;34m=\u001b[0m\u001b[0;34m'NUM'\u001b[0m\u001b[0;34m,\u001b[0m\u001b[0mdtype\u001b[0m\u001b[0;34m=\u001b[0m\u001b[0;34m{\u001b[0m\u001b[0;34m'NUM'\u001b[0m\u001b[0;34m:\u001b[0m \u001b[0mnp\u001b[0m\u001b[0;34m.\u001b[0m\u001b[0mint\u001b[0m\u001b[0;34m,\u001b[0m \u001b[0;34m'LOS'\u001b[0m\u001b[0;34m:\u001b[0m\u001b[0mnp\u001b[0m\u001b[0;34m.\u001b[0m\u001b[0mfloat32\u001b[0m\u001b[0;34m}\u001b[0m\u001b[0;34m,\u001b[0m\u001b[0musecols\u001b[0m\u001b[0;34m=\u001b[0m\u001b[0;34m[\u001b[0m\u001b[0;34m'NUM'\u001b[0m\u001b[0;34m,\u001b[0m\u001b[0;34m'LOS'\u001b[0m\u001b[0;34m,\u001b[0m\u001b[0;34m'ISS'\u001b[0m\u001b[0;34m,\u001b[0m\u001b[0;34m'YEAR'\u001b[0m\u001b[0;34m,\u001b[0m\u001b[0;34m'MONTH'\u001b[0m\u001b[0;34m,\u001b[0m\u001b[0;34m'BAC'\u001b[0m\u001b[0;34m,\u001b[0m\u001b[0;34m'BMI'\u001b[0m\u001b[0;34m,\u001b[0m\u001b[0;34m'AGE'\u001b[0m\u001b[0;34m]\u001b[0m\u001b[0;34m)\u001b[0m\u001b[0;34m\u001b[0m\u001b[0m\n\u001b[0;32m----> 2\u001b[0;31m \u001b[0mlabel\u001b[0m \u001b[0;34m=\u001b[0m \u001b[0mpd\u001b[0m\u001b[0;34m.\u001b[0m\u001b[0mread_csv\u001b[0m\u001b[0;34m(\u001b[0m\u001b[0;34m'toxdata.csv'\u001b[0m\u001b[0;34m,\u001b[0m\u001b[0mna_values\u001b[0m\u001b[0;34m=\u001b[0m\u001b[0;34m\" \"\u001b[0m\u001b[0;34m,\u001b[0m\u001b[0mdtype\u001b[0m\u001b[0;34m=\u001b[0m\u001b[0;34m{\u001b[0m\u001b[0;34m'NUM'\u001b[0m\u001b[0;34m:\u001b[0m \u001b[0mnp\u001b[0m\u001b[0;34m.\u001b[0m\u001b[0mint\u001b[0m\u001b[0;34m,\u001b[0m \u001b[0;34m'LOS'\u001b[0m\u001b[0;34m:\u001b[0m\u001b[0mnp\u001b[0m\u001b[0;34m.\u001b[0m\u001b[0mfloat32\u001b[0m\u001b[0;34m}\u001b[0m\u001b[0;34m,\u001b[0m\u001b[0mindex_col\u001b[0m\u001b[0;34m=\u001b[0m\u001b[0;34m'NUM'\u001b[0m\u001b[0;34m,\u001b[0m\u001b[0musecols\u001b[0m\u001b[0;34m=\u001b[0m\u001b[0;34m[\u001b[0m\u001b[0;34m'LOS'\u001b[0m\u001b[0;34m]\u001b[0m\u001b[0;34m)\u001b[0m\u001b[0;34m\u001b[0m\u001b[0m\n\u001b[0m",
        "\u001b[0;32m/Users/jamesmankin/Desktop/anaconda/lib/python2.7/site-packages/pandas/io/parsers.pyc\u001b[0m in \u001b[0;36mparser_f\u001b[0;34m(filepath_or_buffer, sep, dialect, compression, doublequote, escapechar, quotechar, quoting, skipinitialspace, lineterminator, header, index_col, names, prefix, skiprows, skipfooter, skip_footer, na_values, na_fvalues, true_values, false_values, delimiter, converters, dtype, usecols, engine, delim_whitespace, as_recarray, na_filter, compact_ints, use_unsigned, low_memory, buffer_lines, warn_bad_lines, error_bad_lines, keep_default_na, thousands, comment, decimal, parse_dates, keep_date_col, dayfirst, date_parser, memory_map, nrows, iterator, chunksize, verbose, encoding, squeeze, mangle_dupe_cols, tupleize_cols, infer_datetime_format)\u001b[0m\n\u001b[1;32m    450\u001b[0m                     infer_datetime_format=infer_datetime_format)\n\u001b[1;32m    451\u001b[0m \u001b[0;34m\u001b[0m\u001b[0m\n\u001b[0;32m--> 452\u001b[0;31m         \u001b[0;32mreturn\u001b[0m \u001b[0m_read\u001b[0m\u001b[0;34m(\u001b[0m\u001b[0mfilepath_or_buffer\u001b[0m\u001b[0;34m,\u001b[0m \u001b[0mkwds\u001b[0m\u001b[0;34m)\u001b[0m\u001b[0;34m\u001b[0m\u001b[0m\n\u001b[0m\u001b[1;32m    453\u001b[0m \u001b[0;34m\u001b[0m\u001b[0m\n\u001b[1;32m    454\u001b[0m     \u001b[0mparser_f\u001b[0m\u001b[0;34m.\u001b[0m\u001b[0m__name__\u001b[0m \u001b[0;34m=\u001b[0m \u001b[0mname\u001b[0m\u001b[0;34m\u001b[0m\u001b[0m\n",
        "\u001b[0;32m/Users/jamesmankin/Desktop/anaconda/lib/python2.7/site-packages/pandas/io/parsers.pyc\u001b[0m in \u001b[0;36m_read\u001b[0;34m(filepath_or_buffer, kwds)\u001b[0m\n\u001b[1;32m    242\u001b[0m         \u001b[0;32mreturn\u001b[0m \u001b[0mparser\u001b[0m\u001b[0;34m\u001b[0m\u001b[0m\n\u001b[1;32m    243\u001b[0m \u001b[0;34m\u001b[0m\u001b[0m\n\u001b[0;32m--> 244\u001b[0;31m     \u001b[0;32mreturn\u001b[0m \u001b[0mparser\u001b[0m\u001b[0;34m.\u001b[0m\u001b[0mread\u001b[0m\u001b[0;34m(\u001b[0m\u001b[0;34m)\u001b[0m\u001b[0;34m\u001b[0m\u001b[0m\n\u001b[0m\u001b[1;32m    245\u001b[0m \u001b[0;34m\u001b[0m\u001b[0m\n\u001b[1;32m    246\u001b[0m _parser_defaults = {\n",
        "\u001b[0;32m/Users/jamesmankin/Desktop/anaconda/lib/python2.7/site-packages/pandas/io/parsers.pyc\u001b[0m in \u001b[0;36mread\u001b[0;34m(self, nrows)\u001b[0m\n\u001b[1;32m    693\u001b[0m                 \u001b[0;32mraise\u001b[0m \u001b[0mValueError\u001b[0m\u001b[0;34m(\u001b[0m\u001b[0;34m'skip_footer not supported for iteration'\u001b[0m\u001b[0;34m)\u001b[0m\u001b[0;34m\u001b[0m\u001b[0m\n\u001b[1;32m    694\u001b[0m \u001b[0;34m\u001b[0m\u001b[0m\n\u001b[0;32m--> 695\u001b[0;31m         \u001b[0mret\u001b[0m \u001b[0;34m=\u001b[0m \u001b[0mself\u001b[0m\u001b[0;34m.\u001b[0m\u001b[0m_engine\u001b[0m\u001b[0;34m.\u001b[0m\u001b[0mread\u001b[0m\u001b[0;34m(\u001b[0m\u001b[0mnrows\u001b[0m\u001b[0;34m)\u001b[0m\u001b[0;34m\u001b[0m\u001b[0m\n\u001b[0m\u001b[1;32m    696\u001b[0m \u001b[0;34m\u001b[0m\u001b[0m\n\u001b[1;32m    697\u001b[0m         \u001b[0;32mif\u001b[0m \u001b[0mself\u001b[0m\u001b[0;34m.\u001b[0m\u001b[0moptions\u001b[0m\u001b[0;34m.\u001b[0m\u001b[0mget\u001b[0m\u001b[0;34m(\u001b[0m\u001b[0;34m'as_recarray'\u001b[0m\u001b[0;34m)\u001b[0m\u001b[0;34m:\u001b[0m\u001b[0;34m\u001b[0m\u001b[0m\n",
        "\u001b[0;32m/Users/jamesmankin/Desktop/anaconda/lib/python2.7/site-packages/pandas/io/parsers.pyc\u001b[0m in \u001b[0;36mread\u001b[0;34m(self, nrows)\u001b[0m\n\u001b[1;32m   1190\u001b[0m \u001b[0;34m\u001b[0m\u001b[0m\n\u001b[1;32m   1191\u001b[0m             \u001b[0mnames\u001b[0m\u001b[0;34m,\u001b[0m \u001b[0mdata\u001b[0m \u001b[0;34m=\u001b[0m \u001b[0mself\u001b[0m\u001b[0;34m.\u001b[0m\u001b[0m_do_date_conversions\u001b[0m\u001b[0;34m(\u001b[0m\u001b[0mnames\u001b[0m\u001b[0;34m,\u001b[0m \u001b[0mdata\u001b[0m\u001b[0;34m)\u001b[0m\u001b[0;34m\u001b[0m\u001b[0m\n\u001b[0;32m-> 1192\u001b[0;31m             \u001b[0mindex\u001b[0m\u001b[0;34m,\u001b[0m \u001b[0mnames\u001b[0m \u001b[0;34m=\u001b[0m \u001b[0mself\u001b[0m\u001b[0;34m.\u001b[0m\u001b[0m_make_index\u001b[0m\u001b[0;34m(\u001b[0m\u001b[0mdata\u001b[0m\u001b[0;34m,\u001b[0m \u001b[0malldata\u001b[0m\u001b[0;34m,\u001b[0m \u001b[0mnames\u001b[0m\u001b[0;34m)\u001b[0m\u001b[0;34m\u001b[0m\u001b[0m\n\u001b[0m\u001b[1;32m   1193\u001b[0m \u001b[0;34m\u001b[0m\u001b[0m\n\u001b[1;32m   1194\u001b[0m         \u001b[0;31m# maybe create a mi on the columns\u001b[0m\u001b[0;34m\u001b[0m\u001b[0;34m\u001b[0m\u001b[0m\n",
        "\u001b[0;32m/Users/jamesmankin/Desktop/anaconda/lib/python2.7/site-packages/pandas/io/parsers.pyc\u001b[0m in \u001b[0;36m_make_index\u001b[0;34m(self, data, alldata, columns, indexnamerow)\u001b[0m\n\u001b[1;32m    860\u001b[0m \u001b[0;34m\u001b[0m\u001b[0m\n\u001b[1;32m    861\u001b[0m         \u001b[0;32melif\u001b[0m \u001b[0;32mnot\u001b[0m \u001b[0mself\u001b[0m\u001b[0;34m.\u001b[0m\u001b[0m_has_complex_date_col\u001b[0m\u001b[0;34m:\u001b[0m\u001b[0;34m\u001b[0m\u001b[0m\n\u001b[0;32m--> 862\u001b[0;31m             \u001b[0mindex\u001b[0m \u001b[0;34m=\u001b[0m \u001b[0mself\u001b[0m\u001b[0;34m.\u001b[0m\u001b[0m_get_simple_index\u001b[0m\u001b[0;34m(\u001b[0m\u001b[0malldata\u001b[0m\u001b[0;34m,\u001b[0m \u001b[0mcolumns\u001b[0m\u001b[0;34m)\u001b[0m\u001b[0;34m\u001b[0m\u001b[0m\n\u001b[0m\u001b[1;32m    863\u001b[0m             \u001b[0mindex\u001b[0m \u001b[0;34m=\u001b[0m \u001b[0mself\u001b[0m\u001b[0;34m.\u001b[0m\u001b[0m_agg_index\u001b[0m\u001b[0;34m(\u001b[0m\u001b[0mindex\u001b[0m\u001b[0;34m)\u001b[0m\u001b[0;34m\u001b[0m\u001b[0m\n\u001b[1;32m    864\u001b[0m \u001b[0;34m\u001b[0m\u001b[0m\n",
        "\u001b[0;32m/Users/jamesmankin/Desktop/anaconda/lib/python2.7/site-packages/pandas/io/parsers.pyc\u001b[0m in \u001b[0;36m_get_simple_index\u001b[0;34m(self, data, columns)\u001b[0m\n\u001b[1;32m    894\u001b[0m         \u001b[0mindex\u001b[0m \u001b[0;34m=\u001b[0m \u001b[0;34m[\u001b[0m\u001b[0;34m]\u001b[0m\u001b[0;34m\u001b[0m\u001b[0m\n\u001b[1;32m    895\u001b[0m         \u001b[0;32mfor\u001b[0m \u001b[0midx\u001b[0m \u001b[0;32min\u001b[0m \u001b[0mself\u001b[0m\u001b[0;34m.\u001b[0m\u001b[0mindex_col\u001b[0m\u001b[0;34m:\u001b[0m\u001b[0;34m\u001b[0m\u001b[0m\n\u001b[0;32m--> 896\u001b[0;31m             \u001b[0mi\u001b[0m \u001b[0;34m=\u001b[0m \u001b[0mix\u001b[0m\u001b[0;34m(\u001b[0m\u001b[0midx\u001b[0m\u001b[0;34m)\u001b[0m\u001b[0;34m\u001b[0m\u001b[0m\n\u001b[0m\u001b[1;32m    897\u001b[0m             \u001b[0mto_remove\u001b[0m\u001b[0;34m.\u001b[0m\u001b[0mappend\u001b[0m\u001b[0;34m(\u001b[0m\u001b[0mi\u001b[0m\u001b[0;34m)\u001b[0m\u001b[0;34m\u001b[0m\u001b[0m\n\u001b[1;32m    898\u001b[0m             \u001b[0mindex\u001b[0m\u001b[0;34m.\u001b[0m\u001b[0mappend\u001b[0m\u001b[0;34m(\u001b[0m\u001b[0mdata\u001b[0m\u001b[0;34m[\u001b[0m\u001b[0mi\u001b[0m\u001b[0;34m]\u001b[0m\u001b[0;34m)\u001b[0m\u001b[0;34m\u001b[0m\u001b[0m\n",
        "\u001b[0;32m/Users/jamesmankin/Desktop/anaconda/lib/python2.7/site-packages/pandas/io/parsers.pyc\u001b[0m in \u001b[0;36mix\u001b[0;34m(col)\u001b[0m\n\u001b[1;32m    888\u001b[0m             \u001b[0;32mif\u001b[0m \u001b[0;32mnot\u001b[0m \u001b[0misinstance\u001b[0m\u001b[0;34m(\u001b[0m\u001b[0mcol\u001b[0m\u001b[0;34m,\u001b[0m \u001b[0mcompat\u001b[0m\u001b[0;34m.\u001b[0m\u001b[0mstring_types\u001b[0m\u001b[0;34m)\u001b[0m\u001b[0;34m:\u001b[0m\u001b[0;34m\u001b[0m\u001b[0m\n\u001b[1;32m    889\u001b[0m                 \u001b[0;32mreturn\u001b[0m \u001b[0mcol\u001b[0m\u001b[0;34m\u001b[0m\u001b[0m\n\u001b[0;32m--> 890\u001b[0;31m             \u001b[0;32mraise\u001b[0m \u001b[0mValueError\u001b[0m\u001b[0;34m(\u001b[0m\u001b[0;34m'Index %s invalid'\u001b[0m \u001b[0;34m%\u001b[0m \u001b[0mcol\u001b[0m\u001b[0;34m)\u001b[0m\u001b[0;34m\u001b[0m\u001b[0m\n\u001b[0m\u001b[1;32m    891\u001b[0m         \u001b[0mindex\u001b[0m \u001b[0;34m=\u001b[0m \u001b[0mNone\u001b[0m\u001b[0;34m\u001b[0m\u001b[0m\n\u001b[1;32m    892\u001b[0m \u001b[0;34m\u001b[0m\u001b[0m\n",
        "\u001b[0;31mValueError\u001b[0m: Index NUM invalid"
       ]
      }
     ],
     "prompt_number": 7
    },
    {
     "cell_type": "code",
     "collapsed": false,
     "input": [
      "features.head()"
     ],
     "language": "python",
     "metadata": {},
     "outputs": [
      {
       "html": [
        "<div style=\"max-height:1000px;max-width:1500px;overflow:auto;\">\n",
        "<table border=\"1\" class=\"dataframe\">\n",
        "  <thead>\n",
        "    <tr style=\"text-align: right;\">\n",
        "      <th></th>\n",
        "      <th>LOS</th>\n",
        "      <th>AGE</th>\n",
        "    </tr>\n",
        "    <tr>\n",
        "      <th>NUM</th>\n",
        "      <th></th>\n",
        "      <th></th>\n",
        "    </tr>\n",
        "  </thead>\n",
        "  <tbody>\n",
        "    <tr>\n",
        "      <th>100032370</th>\n",
        "      <td> 131.96</td>\n",
        "      <td> 15</td>\n",
        "    </tr>\n",
        "    <tr>\n",
        "      <th>100032798</th>\n",
        "      <td> 116.99</td>\n",
        "      <td> 15</td>\n",
        "    </tr>\n",
        "    <tr>\n",
        "      <th>100035295</th>\n",
        "      <td>  87.40</td>\n",
        "      <td> 15</td>\n",
        "    </tr>\n",
        "    <tr>\n",
        "      <th>100035529</th>\n",
        "      <td>  77.96</td>\n",
        "      <td> 15</td>\n",
        "    </tr>\n",
        "    <tr>\n",
        "      <th>100035568</th>\n",
        "      <td>  72.57</td>\n",
        "      <td> 15</td>\n",
        "    </tr>\n",
        "  </tbody>\n",
        "</table>\n",
        "</div>"
       ],
       "metadata": {},
       "output_type": "pyout",
       "prompt_number": 166,
       "text": [
        "              LOS  AGE\n",
        "NUM                   \n",
        "100032370  131.96   15\n",
        "100032798  116.99   15\n",
        "100035295   87.40   15\n",
        "100035529   77.96   15\n",
        "100035568   72.57   15"
       ]
      }
     ],
     "prompt_number": 166
    },
    {
     "cell_type": "code",
     "collapsed": false,
     "input": [
      "features.values"
     ],
     "language": "python",
     "metadata": {},
     "outputs": [
      {
       "metadata": {},
       "output_type": "pyout",
       "prompt_number": 167,
       "text": [
        "array([[  1.31960000e+02,   1.50000000e+01],\n",
        "       [  1.16990000e+02,   1.50000000e+01],\n",
        "       [  8.74000000e+01,   1.50000000e+01],\n",
        "       ..., \n",
        "       [  1.00000000e-02,   9.20000000e+01],\n",
        "       [  1.00000000e-02,   9.50000000e+01],\n",
        "       [  1.00000000e-02,   9.50000000e+01]])"
       ]
      }
     ],
     "prompt_number": 167
    },
    {
     "cell_type": "code",
     "collapsed": false,
     "input": [
      "import pandas as pd\n",
      "pd.set_option('display.max_columns', None)\n",
      "%pylab inline\n",
      "import seaborn as sns\n",
      "sns.set()\n",
      "import copy"
     ],
     "language": "python",
     "metadata": {},
     "outputs": [
      {
       "output_type": "stream",
       "stream": "stdout",
       "text": [
        "Populating the interactive namespace from numpy and matplotlib\n"
       ]
      },
      {
       "output_type": "stream",
       "stream": "stderr",
       "text": [
        "WARNING: pylab import has clobbered these variables: ['copy']\n",
        "`%matplotlib` prevents importing * from pylab and numpy\n"
       ]
      }
     ],
     "prompt_number": 141
    },
    {
     "cell_type": "code",
     "collapsed": false,
     "input": [
      "\n",
      "from sklearn import preprocessing\n",
      "\n",
      "X_scaled = preprocessing.scale(X) # many methods work better on scaled X\n",
      "train_X = X_scaled[:half]\n",
      "train_Y = Y[:half]\n",
      "test_X = X_scaled[half:]\n",
      "test_Y = Y[half:]\n",
      "clf1 = neighbors.KNeighborsRegressor(10)\n",
      "clf1.fit(train_X,train_Y)"
     ],
     "language": "python",
     "metadata": {},
     "outputs": [
      {
       "ename": "IndexError",
       "evalue": "invalid slice",
       "output_type": "pyerr",
       "traceback": [
        "\u001b[0;31m---------------------------------------------------------------------------\u001b[0m\n\u001b[0;31mIndexError\u001b[0m                                Traceback (most recent call last)",
        "\u001b[0;32m<ipython-input-153-0b9fc3c036cd>\u001b[0m in \u001b[0;36m<module>\u001b[0;34m()\u001b[0m\n\u001b[1;32m      3\u001b[0m \u001b[0;34m\u001b[0m\u001b[0m\n\u001b[1;32m      4\u001b[0m \u001b[0mX_scaled\u001b[0m \u001b[0;34m=\u001b[0m \u001b[0mpreprocessing\u001b[0m\u001b[0;34m.\u001b[0m\u001b[0mscale\u001b[0m\u001b[0;34m(\u001b[0m\u001b[0mX\u001b[0m\u001b[0;34m)\u001b[0m \u001b[0;31m# many methods work better on scaled X\u001b[0m\u001b[0;34m\u001b[0m\u001b[0m\n\u001b[0;32m----> 5\u001b[0;31m \u001b[0mtrain_X\u001b[0m \u001b[0;34m=\u001b[0m \u001b[0mX_scaled\u001b[0m\u001b[0;34m[\u001b[0m\u001b[0;34m:\u001b[0m\u001b[0mhalf\u001b[0m\u001b[0;34m]\u001b[0m\u001b[0;34m\u001b[0m\u001b[0m\n\u001b[0m\u001b[1;32m      6\u001b[0m \u001b[0mtrain_Y\u001b[0m \u001b[0;34m=\u001b[0m \u001b[0mY\u001b[0m\u001b[0;34m[\u001b[0m\u001b[0;34m:\u001b[0m\u001b[0mhalf\u001b[0m\u001b[0;34m]\u001b[0m\u001b[0;34m\u001b[0m\u001b[0m\n\u001b[1;32m      7\u001b[0m \u001b[0mtest_X\u001b[0m \u001b[0;34m=\u001b[0m \u001b[0mX_scaled\u001b[0m\u001b[0;34m[\u001b[0m\u001b[0mhalf\u001b[0m\u001b[0;34m:\u001b[0m\u001b[0;34m]\u001b[0m\u001b[0;34m\u001b[0m\u001b[0m\n",
        "\u001b[0;31mIndexError\u001b[0m: invalid slice"
       ]
      }
     ],
     "prompt_number": 153
    },
    {
     "cell_type": "code",
     "collapsed": false,
     "input": [
      "X = features.values\n",
      "Y = np.atleast_1d(label.values).ravel()\n",
      "print X.shape\n",
      "print Y.shape\n",
      "\n",
      "half = floor(len(Y)/2)\n",
      "train_X = X[:half]\n",
      "train_Y = Y[:half]\n",
      "test_X = X[half:]\n",
      "test_Y = Y[half:]"
     ],
     "language": "python",
     "metadata": {},
     "outputs": [
      {
       "output_type": "stream",
       "stream": "stdout",
       "text": [
        "(12576, 2)\n",
        "(12576,)\n"
       ]
      }
     ],
     "prompt_number": 162
    },
    {
     "cell_type": "code",
     "collapsed": false,
     "input": [
      "X.astype(int)"
     ],
     "language": "python",
     "metadata": {},
     "outputs": [
      {
       "metadata": {},
       "output_type": "pyout",
       "prompt_number": 165,
       "text": [
        "array([[131,  15],\n",
        "       [116,  15],\n",
        "       [ 87,  15],\n",
        "       ..., \n",
        "       [  0,  92],\n",
        "       [  0,  95],\n",
        "       [  0,  95]])"
       ]
      }
     ],
     "prompt_number": 165
    },
    {
     "cell_type": "code",
     "collapsed": false,
     "input": [
      "plt.plot(X[:, 0], X[:, 1], '.k')"
     ],
     "language": "python",
     "metadata": {},
     "outputs": [
      {
       "metadata": {},
       "output_type": "pyout",
       "prompt_number": 163,
       "text": [
        "[<matplotlib.lines.Line2D at 0x10765b9d0>]"
       ]
      },
      {
       "metadata": {},
       "output_type": "display_data",
       "png": "[encoded data removed]",
       "text": [
        "<matplotlib.figure.Figure at 0x10da2a950>"
       ]
      }
     ],
     "prompt_number": 163
    },
    {
     "cell_type": "code",
     "collapsed": false,
     "input": [
      "from sklearn.ensemble import RandomForestRegressor\n",
      "clf2 = RandomForestRegressor(n_estimators=100, \n",
      "                            criterion='mse', max_depth=None, \n",
      "                            min_samples_split=2, min_samples_leaf=1, \n",
      "                            max_features='auto', max_leaf_nodes=None, \n",
      "                            bootstrap=True, oob_score=True, n_jobs=1, \n",
      "                            random_state=None, verbose=0, \n",
      "                            min_density=None, compute_importances=None)\n",
      "clf2.fit(train_X ,train_Y)"
     ],
     "language": "python",
     "metadata": {},
     "outputs": [
      {
       "metadata": {},
       "output_type": "pyout",
       "prompt_number": 156,
       "text": [
        "RandomForestRegressor(bootstrap=True, compute_importances=None,\n",
        "           criterion='mse', max_depth=None, max_features='auto',\n",
        "           max_leaf_nodes=None, min_density=None, min_samples_leaf=1,\n",
        "           min_samples_split=2, n_estimators=100, n_jobs=1, oob_score=True,\n",
        "           random_state=None, verbose=0)"
       ]
      }
     ],
     "prompt_number": 156
    },
    {
     "cell_type": "code",
     "collapsed": false,
     "input": [
      "from sklearn.metrics import mean_squared_error\n",
      "Y_rf_pred = clf2.predict(test_X)\n",
      "mse = mean_squared_error(test_Y,Y_rf_pred) ; print mse\n",
      "scatter(test_Y, Y_rf_pred - test_Y,alpha=0.2)\n",
      "title(\"RF Residuals - MSE = %.1f\" % mse)\n",
      "xlabel(\"Lenth of Stay\")\n",
      "ylabel(\"Age\")\n",
      "hlines(0,min(test_Y),max(test_Y),color=\"red\")"
     ],
     "language": "python",
     "metadata": {},
     "outputs": [
      {
       "output_type": "stream",
       "stream": "stdout",
       "text": [
        "1.12862496416\n"
       ]
      },
      {
       "metadata": {},
       "output_type": "pyout",
       "prompt_number": 159,
       "text": [
        "<matplotlib.collections.LineCollection at 0x10d108c50>"
       ]
      },
      {
       "metadata": {},
       "output_type": "display_data",
       "png": "[encoded data removed]",
       "text": [
        "<matplotlib.figure.Figure at 0x118c64ad0>"
       ]
      }
     ],
     "prompt_number": 159
    },
    {
     "cell_type": "code",
     "collapsed": false,
     "input": [],
     "language": "python",
     "metadata": {},
     "outputs": []
    }
   ],
   "metadata": {}
  }
 ]
}